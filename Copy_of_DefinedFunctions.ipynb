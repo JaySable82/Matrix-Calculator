{
  "nbformat": 4,
  "nbformat_minor": 0,
  "metadata": {
    "colab": {
      "provenance": [],
      "include_colab_link": true
    },
    "kernelspec": {
      "name": "python3",
      "display_name": "Python 3"
    },
    "language_info": {
      "name": "python"
    }
  },
  "cells": [
    {
      "cell_type": "markdown",
      "metadata": {
        "id": "view-in-github",
        "colab_type": "text"
      },
      "source": [
        "<a href=\"https://colab.research.google.com/github/JaySable82/Matrix-Calculator/blob/main/Copy_of_DefinedFunctions.ipynb\" target=\"_parent\"><img src=\"https://colab.research.google.com/assets/colab-badge.svg\" alt=\"Open In Colab\"/></a>"
      ]
    },
    {
      "cell_type": "code",
      "execution_count": null,
      "metadata": {
        "colab": {
          "base_uri": "https://localhost:8080/",
          "height": 437
        },
        "id": "OSYSEAJekVVx",
        "outputId": "0ecb6cc3-e2cc-4401-c015-15c61e81945d"
      },
      "outputs": [
        {
          "output_type": "stream",
          "name": "stdout",
          "text": [
            "Enter m*n: 5*5\n",
            "Enter 1st  Row Of Matrix: 15,96,85,12,58\n",
            "Enter 2nd  Row Of Matrix: 2,5,8,6,3\n",
            "Enter 3rd  Row Of Matrix: 0,1,5,8,6\n",
            "Enter 4th Row Of Matrix: 36,9,5,84,1555\n",
            "Enter 5th Row Of Matrix: 1266,89,9,6,2\n",
            "\n",
            "\n"
          ]
        },
        {
          "output_type": "display_data",
          "data": {
            "text/plain": [
              "<IPython.core.display.Latex object>"
            ],
            "text/latex": "{Let,\\hspace{0.12cm}Given\\hspace{0.12cm}Matrix\\hspace{0.12cm}be\\hspace{0.12cm}A,}"
          },
          "metadata": {}
        },
        {
          "output_type": "stream",
          "name": "stdout",
          "text": [
            "\n",
            "\n"
          ]
        },
        {
          "output_type": "display_data",
          "data": {
            "text/plain": [
              "<IPython.core.display.Latex object>"
            ],
            "text/latex": "\\hspace{1.5cm}{A=}\\begin{bmatrix}\n15 & 96 & 85 & 12 & 58\\\\\n2 & 5 & 8 & 6 & 3\\\\\n0 & 1 & 5 & 8 & 6\\\\\n36 & 9 & 5 & 84 & 1555\\\\\n1266 & 89 & 9 & 6 & 2\\\\\n\\end{bmatrix}"
          },
          "metadata": {}
        },
        {
          "output_type": "display_data",
          "data": {
            "text/plain": [
              "<IPython.core.display.Latex object>"
            ],
            "text/latex": "{R_1 \\Leftrightarrow R_2}"
          },
          "metadata": {}
        },
        {
          "output_type": "display_data",
          "data": {
            "text/plain": [
              "<IPython.core.display.Latex object>"
            ],
            "text/latex": "\\hspace{1.5cm}{A=}\\begin{bmatrix}\n2 & 5 & 8 & 6 & 3\\\\\n15 & 96 & 85 & 12 & 58\\\\\n0 & 1 & 5 & 8 & 6\\\\\n36 & 9 & 5 & 84 & 1555\\\\\n1266 & 89 & 9 & 6 & 2\\\\\n\\end{bmatrix}"
          },
          "metadata": {}
        }
      ],
      "source": [
        "import numpy as np\n",
        "\n",
        "from IPython.display import display, Latex\n",
        "\n",
        "#Function Defined For Input an Order Of Matrix\n",
        "def order():\n",
        "  input_str = input(\"Enter m*n: \")\n",
        "  m, n = map(int, input_str.split('*'))\n",
        "  return [m,n]\n",
        "\n",
        "#Function Defined For Input A Matrix\n",
        "def suffix(i):\n",
        "  if i+1==1:\n",
        "    return 'st '\n",
        "  elif i+1==2:\n",
        "    return 'nd '\n",
        "  elif i+1==3:\n",
        "    return 'rd '\n",
        "  else:\n",
        "    return 'th'\n",
        "def input_matrix(m,n):\n",
        "  matrix=[]\n",
        "  for i in range(m):\n",
        "    int_list=[]\n",
        "    input_str = input(\"Enter {}{} Row Of Matrix: \".format(i+1,suffix(i)))\n",
        "    int_list = [int(num) for num in input_str.split(\",\")[:n]]\n",
        "    matrix.append(int_list)\n",
        "  return matrix\n",
        "\n",
        "#Function Defined For Converting a Matrix into Latex\n",
        "def Latex_Convert(matrix):\n",
        "  A = np.array(matrix)\n",
        "  matrix_str = r'\\begin{bmatrix}' + '\\n'\n",
        "  for row in A:\n",
        "      matrix_str += ' & '.join([str(elem) for elem in row])\n",
        "      matrix_str += r'\\\\' + '\\n'\n",
        "  matrix_str += r'\\end{bmatrix}'\n",
        "  return matrix_str\n",
        "\n",
        "#To Convert A String Into Latex\n",
        "def Latex_String(s):\n",
        "  txt_1=str(s)\n",
        "  txt_1=txt_1.replace(' ','\\hspace{0.12cm}')\n",
        "  txt_1='{'+txt_1+'}'\n",
        "  return txt_1\n",
        "\n",
        "#To InterChange Rows Of Matrix\n",
        "def RowInterchange(matrix,i,j):\n",
        "  txt_2=\"R_{} \\Leftrightarrow R_{}\".format(i,j)\n",
        "  display(Latex('{'+txt_2+'}'))\n",
        "  matrix[i-1], matrix[j-1] = matrix[j-1], matrix[i-1]\n",
        "  return matrix\n",
        "\n",
        "#To Get Echelon Form\n",
        "def RowEch(matrix,m,n):\n",
        "  Lat_A = Latex_Convert(matrix)\n",
        "  txt_1=Latex_String('Let, Given Matrix be A,')\n",
        "  display(Latex(txt_1))\n",
        "  print('\\n')\n",
        "  display(Latex(\"\\hspace{1.5cm}{A=}\"+Lat_A))\n",
        "\n",
        "  #interchanging Rows which have minimum value but not zero\n",
        "  min_row_index = None\n",
        "  for i in range(1, len(matrix)):\n",
        "      if matrix[i][0] != 0 and (min_row_index is None or matrix[i][0] < matrix[min_row_index][0]):\n",
        "          min_row_index = i\n",
        "  if min_row_index is not None:\n",
        "    matrix1=RowInterchange(matrix,1,min_row_index+1)\n",
        "    Lat_A1 = Latex_Convert(matrix1)\n",
        "    display(Latex(\"\\hspace{1.5cm}{A=}\"+Lat_A1))\n",
        "    matrix=matrix1\n",
        "    \n",
        "\n",
        "m,n=order()\n",
        "Mat_A=input_matrix(m,n)\n",
        "\n",
        "print('\\n')\n",
        "RowEch(Mat_A,m,n)"
      ]
    }
  ]
}