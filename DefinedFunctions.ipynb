{
  "nbformat": 4,
  "nbformat_minor": 0,
  "metadata": {
    "colab": {
      "provenance": [],
      "authorship_tag": "ABX9TyPdGtr9NrxfgUijxnJqdRvg",
      "include_colab_link": true
    },
    "kernelspec": {
      "name": "python3",
      "display_name": "Python 3"
    },
    "language_info": {
      "name": "python"
    }
  },
  "cells": [
    {
      "cell_type": "markdown",
      "metadata": {
        "id": "view-in-github",
        "colab_type": "text"
      },
      "source": [
        "<a href=\"https://colab.research.google.com/github/shubham6762/Matrix-Calculator/blob/main/DefinedFunctions.ipynb\" target=\"_parent\"><img src=\"https://colab.research.google.com/assets/colab-badge.svg\" alt=\"Open In Colab\"/></a>"
      ]
    },
    {
      "cell_type": "markdown",
      "source": [],
      "metadata": {
        "id": "t5Fp_VCiTDi7"
      }
    },
    {
      "cell_type": "markdown",
      "source": [],
      "metadata": {
        "id": "auoUmGh48Fls"
      }
    },
    {
      "cell_type": "code",
      "source": [
        "import numpy as np\n",
        "import sympy as sym\n",
        "from IPython.display import display, Latex\n",
        "\n",
        "#Function Defined For Input an Order Of Matrix\n",
        "def order():\n",
        "  input_str = input(\"Enter m*n: \")\n",
        "  m, n = map(int, input_str.split('*'))\n",
        "  return [m,n]\n",
        "\n",
        "#Function Defined For Input A Matrix\n",
        "def suffix(i):\n",
        "  if i+1==1:\n",
        "    return 'st '\n",
        "  elif i+1==2:\n",
        "    return 'nd '\n",
        "  elif i+1==3:\n",
        "    return 'rd '\n",
        "  else:\n",
        "    return 'th'\n",
        "def input_matrix(m,n):\n",
        "  matrix=[]\n",
        "  for i in range(m):\n",
        "    int_list=[]\n",
        "    input_str = input(\"Enter {}{} Row Of Matrix: \".format(i+1,suffix(i)))\n",
        "    int_list = [int(num) for num in input_str.split(\",\")[:n]]\n",
        "    matrix.append(int_list)\n",
        "  return matrix\n",
        "\n",
        "#Function Defined For Print A Matrix in Latex\n",
        "def print_matrix(matrix):\n",
        "  A = np.array(matrix)\n",
        "  A = sym.Matrix(A)\n",
        "  display(A)\n",
        "\n",
        "m,n=order()\n",
        "Mat_A=input_matrix(m,n)\n",
        "print(\"\\n\")\n",
        "print_matrix(Mat_A)\n"
      ],
      "metadata": {
        "id": "GHVYPI1U720r",
        "colab": {
          "base_uri": "https://localhost:8080/",
          "height": 220
        },
        "outputId": "9abe7901-e390-4326-e960-68124a06e036"
      },
      "execution_count": 42,
      "outputs": [
        {
          "output_type": "stream",
          "name": "stdout",
          "text": [
            "Enter m*n: 4*4\n",
            "Enter 1st  Row Of Matrix: 4865,5,6,2\n",
            "Enter 2nd  Row Of Matrix: 26,15,4,3\n",
            "Enter 3rd  Row Of Matrix: 0,0,0,5\n",
            "Enter 4th Row Of Matrix: 48,5,6,89\n",
            "\n",
            "\n"
          ]
        },
        {
          "output_type": "display_data",
          "data": {
            "text/plain": [
              "Matrix([\n",
              "[4865,  5, 6,  2],\n",
              "[  26, 15, 4,  3],\n",
              "[   0,  0, 0,  5],\n",
              "[  48,  5, 6, 89]])"
            ],
            "text/latex": "$\\displaystyle \\left[\\begin{matrix}4865 & 5 & 6 & 2\\\\26 & 15 & 4 & 3\\\\0 & 0 & 0 & 5\\\\48 & 5 & 6 & 89\\end{matrix}\\right]$"
          },
          "metadata": {}
        }
      ]
    }
  ]
}