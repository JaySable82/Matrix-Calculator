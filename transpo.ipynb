{
  "nbformat": 4,
  "nbformat_minor": 0,
  "metadata": {
    "colab": {
      "provenance": [],
      "authorship_tag": "ABX9TyOnYuWV+KpHi2iMf1FvEK7k",
      "include_colab_link": true
    },
    "kernelspec": {
      "name": "python3",
      "display_name": "Python 3"
    },
    "language_info": {
      "name": "python"
    }
  },
  "cells": [
    {
      "cell_type": "markdown",
      "metadata": {
        "id": "view-in-github",
        "colab_type": "text"
      },
      "source": [
        "<a href=\"https://colab.research.google.com/github/Kunals04/Matrix-Calculator/blob/main/transpo.ipynb\" target=\"_parent\"><img src=\"https://colab.research.google.com/assets/colab-badge.svg\" alt=\"Open In Colab\"/></a>"
      ]
    },
    {
      "cell_type": "code",
      "execution_count": 26,
      "metadata": {
        "id": "yBmQOrxdOjTJ"
      },
      "outputs": [],
      "source": []
    },
    {
      "cell_type": "code",
      "source": [
        "import numpy as np\n",
        "from IPython.display import display, Latex\n",
        "\n",
        "#Function Defined For Input an Order Of Matrix\n",
        "def order():\n",
        "  input_str = input(\"Enter m*n: \")\n",
        "  m, n = map(int, input_str.split('*'))\n",
        "  return [m,n]\n",
        "\n",
        "#Function Defined For Input A Matrix\n",
        "def suffix(i):\n",
        "  if i+1==1:\n",
        "    return 'st '\n",
        "  elif i+1==2:\n",
        "    return 'nd '\n",
        "  elif i+1==3:\n",
        "    return 'rd '\n",
        "  else:\n",
        "    return 'th'\n",
        "def input_matrix(m,n):\n",
        "  matrix=[]\n",
        "  for i in range(m):\n",
        "    int_list=[]\n",
        "    input_str = input(\"Enter {}{} Row Of Matrix: \".format(i+1,suffix(i)))\n",
        "    int_list = [int(num) for num in input_str.split(\",\")[:n]]\n",
        "    matrix.append(int_list)\n",
        "  return matrix\n",
        "\n",
        "#Function Defined For Converting a Matrix into Latex\n",
        "def Latex_Convert(matrix):\n",
        "  A = np.array(matrix)\n",
        "  matrix_str = r'\\begin{bmatrix}' + '\\n'\n",
        "  for row in A:\n",
        "      matrix_str += ' & '.join([str(elem) for elem in row])\n",
        "      matrix_str += r'\\\\' + '\\n'\n",
        "  matrix_str += r'\\end{bmatrix}'\n",
        "  return matrix_str\n",
        "\n",
        "#To Convert A String Into Latex\n",
        "def Latex_String(s):\n",
        "  txt_1=str(s)\n",
        "  txt_1=txt_1.replace(' ','\\hspace{0.12cm}')\n",
        "  txt_1='{'+txt_1+'}'\n",
        "  return txt_1\n",
        "def transpose(matrix,m,n):\n",
        "  b = [[0 for j in range(m)] for i in range(n)]\n",
        "  for i in range(n):\n",
        "      for j in range(m):\n",
        "          b[i][j] = matrix[j][i]\n",
        "  return b\n",
        "\n",
        "m,n=order()\n",
        "mat_A=input_matrix(m,n)\n",
        "mat_A_T=transpose(mat_A,m,n)\n",
        "mat_A_T_str=Latex_Convert(mat_A_T)\n",
        "display(Latex(Latex_String('  Let, Given Matrix be A,')))\n",
        "print('\\n')\n",
        "display(Latex('\\hspace{1.5cm}{A=}'+Latex_Convert(mat_A)))\n",
        "print('\\n')\n",
        "txt='   Order Of Matrix is {}\\\\times{}'.format(m,n)\n",
        "display(Latex(Latex_String(txt)))\n",
        "txt2='   Order of Transpose Of Given Matrix be {}\\\\times{}'.format(n,m)\n",
        "print('\\n')\n",
        "display(Latex(Latex_String(txt2)))\n",
        "print('\\n')\n",
        "display(Latex('\\hspace{1.5cm}{A=}'+mat_A_T_str))"
      ],
      "metadata": {
        "colab": {
          "base_uri": "https://localhost:8080/",
          "height": 413
        },
        "id": "ygejTLtEPVrQ",
        "outputId": "9a3cb49c-ec97-4518-8c6f-f80be9c595b4"
      },
      "execution_count": 26,
      "outputs": [
        {
          "name": "stdout",
          "output_type": "stream",
          "text": [
            "Enter m*n: 3*3\n",
            "Enter 1st  Row Of Matrix: 1,2,3\n",
            "Enter 2nd  Row Of Matrix: 4,5,6\n",
            "Enter 3rd  Row Of Matrix: 7,8,9\n"
          ]
        },
        {
          "output_type": "display_data",
          "data": {
            "text/plain": [
              "<IPython.core.display.Latex object>"
            ],
            "text/latex": "{\\hspace{0.12cm}\\hspace{0.12cm}Let,\\hspace{0.12cm}Given\\hspace{0.12cm}Matrix\\hspace{0.12cm}be\\hspace{0.12cm}A,}"
          },
          "metadata": {}
        },
        {
          "output_type": "stream",
          "name": "stdout",
          "text": [
            "\n",
            "\n"
          ]
        },
        {
          "output_type": "display_data",
          "data": {
            "text/plain": [
              "<IPython.core.display.Latex object>"
            ],
            "text/latex": "\\hspace{1.5cm}{A=}\\begin{bmatrix}\n1 & 2 & 3\\\\\n4 & 5 & 6\\\\\n7 & 8 & 9\\\\\n\\end{bmatrix}"
          },
          "metadata": {}
        },
        {
          "output_type": "stream",
          "name": "stdout",
          "text": [
            "\n",
            "\n"
          ]
        },
        {
          "output_type": "display_data",
          "data": {
            "text/plain": [
              "<IPython.core.display.Latex object>"
            ],
            "text/latex": "{\\hspace{0.12cm}\\hspace{0.12cm}\\hspace{0.12cm}Order\\hspace{0.12cm}Of\\hspace{0.12cm}Matrix\\hspace{0.12cm}is\\hspace{0.12cm}3\\times3}"
          },
          "metadata": {}
        },
        {
          "output_type": "stream",
          "name": "stdout",
          "text": [
            "\n",
            "\n"
          ]
        },
        {
          "output_type": "display_data",
          "data": {
            "text/plain": [
              "<IPython.core.display.Latex object>"
            ],
            "text/latex": "{\\hspace{0.12cm}\\hspace{0.12cm}\\hspace{0.12cm}Order\\hspace{0.12cm}of\\hspace{0.12cm}Transpose\\hspace{0.12cm}Of\\hspace{0.12cm}Given\\hspace{0.12cm}Matrix\\hspace{0.12cm}be\\hspace{0.12cm}3\\times3}"
          },
          "metadata": {}
        },
        {
          "output_type": "stream",
          "name": "stdout",
          "text": [
            "\n",
            "\n"
          ]
        },
        {
          "output_type": "display_data",
          "data": {
            "text/plain": [
              "<IPython.core.display.Latex object>"
            ],
            "text/latex": "\\hspace{1.5cm}{A=}\\begin{bmatrix}\n1 & 4 & 7\\\\\n2 & 5 & 8\\\\\n3 & 6 & 9\\\\\n\\end{bmatrix}"
          },
          "metadata": {}
        }
      ]
    }
  ]
}