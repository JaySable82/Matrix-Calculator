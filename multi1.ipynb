{
  "nbformat": 4,
  "nbformat_minor": 0,
  "metadata": {
    "colab": {
      "provenance": [],
      "authorship_tag": "ABX9TyN/l5fYj6jrWDQ6UGoK8/v5",
      "include_colab_link": true
    },
    "kernelspec": {
      "name": "python3",
      "display_name": "Python 3"
    },
    "language_info": {
      "name": "python"
    }
  },
  "cells": [
    {
      "cell_type": "markdown",
      "metadata": {
        "id": "view-in-github",
        "colab_type": "text"
      },
      "source": [
        "<a href=\"https://colab.research.google.com/github/Kunals04/Matrix-Calculator/blob/main/multi1.ipynb\" target=\"_parent\"><img src=\"https://colab.research.google.com/assets/colab-badge.svg\" alt=\"Open In Colab\"/></a>"
      ]
    },
    {
      "cell_type": "code",
      "execution_count": 2,
      "metadata": {
        "colab": {
          "base_uri": "https://localhost:8080/",
          "height": 286
        },
        "id": "wtAI4Yb-e2JS",
        "outputId": "e08d5b79-3d6f-4914-e7dc-d71c1fd75085"
      },
      "outputs": [
        {
          "name": "stdout",
          "output_type": "stream",
          "text": [
            "Enter m*n*p (m*n and n*p): 3*2*3\n",
            "\n",
            "\n",
            "Enter Elements of Matrix A of Order 3*2\n",
            "Enter 1st  Row Of Matrix: 1,2\n",
            "Enter 2nd  Row Of Matrix: 4,5\n",
            "Enter 3rd  Row Of Matrix: 6,7\n",
            "\n",
            "\n",
            "Enter Elements of Matrix B of Order 2*3\n",
            "Enter 1st  Row Of Matrix: 1,2,4\n",
            "Enter 2nd  Row Of Matrix: 5,8,9\n"
          ]
        },
        {
          "output_type": "display_data",
          "data": {
            "text/plain": [
              "<IPython.core.display.Latex object>"
            ],
            "text/latex": "\\begin{bmatrix}\n11 & 18 & 22\\\\\n29 & 48 & 61\\\\\n41 & 68 & 87\\\\\n\\end{bmatrix}"
          },
          "metadata": {}
        }
      ],
      "source": [
        "import numpy as np\n",
        "from IPython.display import display, Latex\n",
        "\n",
        "#Function Defined For Input an Order Of Matrix\n",
        "def order():\n",
        "  input_str = input(\"Enter m*n*p (m*n and n*p): \")\n",
        "  m, n, p = map(int, input_str.split('*'))\n",
        "  return [m,n,p]\n",
        "\n",
        "#Function Defined For Input A Matrix\n",
        "def suffix(i):\n",
        "  if i+1==1:\n",
        "    return 'st '\n",
        "  elif i+1==2:\n",
        "    return 'nd '\n",
        "  elif i+1==3:\n",
        "    return 'rd '\n",
        "  else:\n",
        "    return 'th'\n",
        "def input_matrix(m,n):\n",
        "  matrix=[]\n",
        "  for i in range(m):\n",
        "    int_list=[]\n",
        "    input_str = input(\"Enter {}{} Row Of Matrix: \".format(i+1,suffix(i)))\n",
        "    int_list = [int(num) for num in input_str.split(\",\")[:n]]\n",
        "    matrix.append(int_list)\n",
        "  return matrix\n",
        "\n",
        "#Function Defined For Converting a Matrix into Latex\n",
        "def Latex_Convert(matrix):\n",
        "  A = np.array(matrix)\n",
        "  matrix_str = r'\\begin{bmatrix}' + '\\n'\n",
        "  for row in A:\n",
        "      matrix_str += ' & '.join([str(elem) for elem in row])\n",
        "      matrix_str += r'\\\\' + '\\n'\n",
        "  matrix_str += r'\\end{bmatrix}'\n",
        "  return matrix_str\n",
        "\n",
        "#To Convert A String Into Latex\n",
        "def Latex_String(s):\n",
        "  txt_1=str(s)\n",
        "  txt_1=txt_1.replace(' ','\\hspace{0.12cm}')\n",
        "  txt_1='{'+txt_1+'}'\n",
        "  return txt_1\n",
        "\n",
        "def multi(a,b,m,n,p):\n",
        "  c = [[0 for j in range(p)] for i in range(m)]\n",
        "  for i in range(m):\n",
        "    for j in range(p):\n",
        "        v = 0\n",
        "        for k in range(n):\n",
        "            v += a[i][k] * b[k][j]\n",
        "        c[i][j] = v\n",
        "  return c\n",
        "\n",
        "m,n,p=order()\n",
        "print('\\n')\n",
        "print('Enter Elements of Matrix A of Order {}*{}'.format(m,n))\n",
        "a=input_matrix(m,n)\n",
        "print('\\n')\n",
        "print('Enter Elements of Matrix B of Order {}*{}'.format(n,p))\n",
        "b=input_matrix(n,p)\n",
        "c=multi(a,b,m,n,p)\n",
        "display(Latex(Latex_Convert(c)))"
      ]
    }
  ]
}